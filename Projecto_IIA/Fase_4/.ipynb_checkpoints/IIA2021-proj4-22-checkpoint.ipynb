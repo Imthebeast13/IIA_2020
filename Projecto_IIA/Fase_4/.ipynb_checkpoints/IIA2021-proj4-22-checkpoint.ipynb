{
 "cells": [
  {
   "cell_type": "markdown",
   "metadata": {},
   "source": [
    "#  Algoritmo Aprendizagem Automática\n",
    "## Projeto nº 4\n",
    "### Introdução à Inteligência Artificial edição 2020/21\n",
    "\n",
    "\n",
    "## Grupo: 22\n",
    "\n",
    "### Elementos do Grupo\n",
    "\n",
    "Nome: André Firmino\n",
    "\n",
    "Número: 44999\n",
    "\n",
    "Nome: Joao Janeiro\n",
    "\n",
    "Número: 52779\n",
    "\n",
    "Nome: Nuno Estalagem\n",
    "\n",
    "Número 52828"
   ]
  },
  {
   "cell_type": "markdown",
   "metadata": {},
   "source": [
    "### Imports\n",
    "De modo a conseguir concretizar este projeto,"
   ]
  },
  {
   "cell_type": "code",
   "execution_count": 15,
   "metadata": {},
   "outputs": [],
   "source": [
    "from utilsAA import *\n",
    "import numpy as np\n",
    "from random import*\n",
    "import sklearn\n",
    "import matplotlib.pyplot as plt\n",
    "from sklearn.tree import DecisionTreeClassifier, plot_tree # árvore de decisão\n",
    "from sklearn.neighbors import KNeighborsClassifier # k-NN\n",
    "from sklearn.model_selection import train_test_split, cross_val_score"
   ]
  },
  {
   "cell_type": "markdown",
   "metadata": {},
   "source": [
    "### Etapa 1-Load de Dados\n",
    "Diz respeit"
   ]
  },
  {
   "cell_type": "code",
   "execution_count": 16,
   "metadata": {},
   "outputs": [],
   "source": [
    "data,target,feature_names,target_names=load_data('airline.csv')\n"
   ]
  },
  {
   "cell_type": "markdown",
   "metadata": {},
   "source": [
    "### Etapa 2-processar os dados"
   ]
  },
  {
   "cell_type": "markdown",
   "metadata": {},
   "source": [
    "### Gravar previsões"
   ]
  },
  {
   "cell_type": "code",
   "execution_count": 17,
   "metadata": {},
   "outputs": [],
   "source": [
    "feature_names = feature_names[1:]\n",
    "data = data[:,1:]\n",
    "data[:,0]=encode_feature(data[:,0])\n",
    "data[:,1]=encode_feature(data[:,1])\n",
    "data[:,3]=encode_feature(data[:,3])\n",
    "data, feature_names = one_hot_encode_feature(data, 4, feature_names)\n"
   ]
  },
  {
   "cell_type": "markdown",
   "metadata": {},
   "source": [
    "### Etapa 3: procura do melhor modelo"
   ]
  },
  {
   "cell_type": "code",
   "execution_count": 18,
   "metadata": {},
   "outputs": [
    {
     "name": "stdout",
     "output_type": "stream",
     "text": [
      "A maior percentagem eh 0.9061938061938062 e utilizamos valor: 2 9\n",
      "CV accuracy:\n",
      "\t0.7948717948717948\n",
      "\t0.9487179487179487\n",
      "\t0.9102564102564102\n",
      "\t0.9102564102564102\n",
      "\t0.9358974358974359\n",
      "\t0.9230769230769231\n",
      "\t0.8974358974358975\n",
      "\t0.8589743589743589\n",
      "\t0.922077922077922\n",
      "\t0.935064935064935\n",
      "Average CV accuracy: 0.904 +/- 0.043\n",
      "A maior percentagem eh 0.6774225774225775 e utilizamos valor: 30\n",
      "CV accuracy:\n",
      "\t0.6538461538461539\n",
      "\t0.6282051282051282\n",
      "\t0.6666666666666666\n",
      "\t0.7051282051282052\n",
      "\t0.6794871794871795\n",
      "\t0.7564102564102564\n",
      "\t0.6282051282051282\n",
      "\t0.6666666666666666\n",
      "\t0.6753246753246753\n",
      "\t0.7142857142857143\n",
      "Average CV accuracy: 0.677 +/- 0.037\n"
     ]
    }
   ],
   "source": [
    "def best_splitter_dec_tree():\n",
    "    max_maior=0\n",
    "    value=0\n",
    "    value2=0\n",
    "    for x in range(21):\n",
    "        for y in range(21):\n",
    "            dtc = DecisionTreeClassifier(criterion='entropy',min_samples_split=x, max_depth=y)\n",
    "            scores = cross_val_score(dtc,\n",
    "                             X=data,\n",
    "                             y=target,\n",
    "                             cv=10,\n",
    "                             n_jobs=-1\n",
    "                            )\n",
    "            if np.mean(scores)>max_maior:\n",
    "                max_maior=np.mean(scores)\n",
    "                value=x\n",
    "                value2=y\n",
    "    print(\"A maior percentagem eh \" + str(max_maior)+ \" e utilizamos valor: \" + str(value) + \" \" +str(value2));\n",
    "    return(value,value2)\n",
    "\n",
    "valores=best_splitter_dec_tree()\n",
    "dtc = DecisionTreeClassifier(criterion='entropy',min_samples_split=valores[0],max_depth=valores[1])\n",
    "scores = cross_val_score(dtc,\n",
    "                         X=data,\n",
    "                         y=target,\n",
    "                         cv=10,\n",
    "                         n_jobs=-1\n",
    "                        )\n",
    "print('CV accuracy:', *scores, sep='\\n\\t')\n",
    "print('Average CV accuracy: %.3f +/- %.3f' %(np.mean(scores), np.std(scores)))\n",
    "\n",
    "\n",
    "\n",
    "\n",
    "\n",
    "def best_splitter_neighbors():\n",
    "    max_maior=0\n",
    "    neighbors=0\n",
    "    for x in range(31):\n",
    "        dtc = KNeighborsClassifier(n_neighbors=x)\n",
    "        scores = cross_val_score(dtc,\n",
    "                             X=data,\n",
    "                             y=target,\n",
    "                             cv=10,\n",
    "                             n_jobs=-1\n",
    "                            )\n",
    "        if np.mean(scores)>max_maior:\n",
    "            max_maior=np.mean(scores)\n",
    "            neighbors=x\n",
    "    print(\"A maior percentagem eh \" + str(max_maior)+ \" e utilizamos valor: \" +str(neighbors));\n",
    "    return neighbors\n",
    "neighbors=best_splitter_neighbors()\n",
    "ctc =  KNeighborsClassifier(n_neighbors=neighbors)\n",
    "scores = cross_val_score(ctc,\n",
    "                         X=data,\n",
    "                         y=target,\n",
    "                         cv=10,\n",
    "                         n_jobs=-1\n",
    "                        )\n",
    "print('CV accuracy:', *scores, sep='\\n\\t')\n",
    "print('Average CV accuracy: %.3f +/- %.3f' %(np.mean(scores), np.std(scores)))"
   ]
  },
  {
   "cell_type": "markdown",
   "metadata": {},
   "source": [
    "### Etapa 4: procura do melhor modelo"
   ]
  },
  {
   "cell_type": "code",
   "execution_count": 19,
   "metadata": {},
   "outputs": [],
   "source": [
    "data_test, features_names_test = load_data(\"test.csv\",testdata=True)"
   ]
  },
  {
   "cell_type": "code",
   "execution_count": 20,
   "metadata": {},
   "outputs": [],
   "source": [
    "features_names_test =  features_names_test[1:]\n",
    "data_test = data_test[:,1:]\n",
    "data_test[:,0]=encode_feature(data_test[:,0])\n",
    "data_test[:,1]=encode_feature(data_test[:,1])\n",
    "data_test[:,3]=encode_feature(data_test[:,3])\n",
    "data_test, features_names_test = one_hot_encode_feature(data_test, 4, features_names_test)\n",
    "dtc = DecisionTreeClassifier(criterion='entropy',min_samples_split=valores[0],max_depth=valores[1])\n",
    "dtc.fit(data,target)\n",
    "var=dtc.predict(data_test)\n",
    "save_data('IIA2021-proj4-22.csv',var)\n"
   ]
  }
 ],
 "metadata": {
  "kernelspec": {
   "display_name": "Python 3",
   "language": "python",
   "name": "python3"
  },
  "language_info": {
   "codemirror_mode": {
    "name": "ipython",
    "version": 3
   },
   "file_extension": ".py",
   "mimetype": "text/x-python",
   "name": "python",
   "nbconvert_exporter": "python",
   "pygments_lexer": "ipython3",
   "version": "3.8.3"
  }
 },
 "nbformat": 4,
 "nbformat_minor": 4
}
