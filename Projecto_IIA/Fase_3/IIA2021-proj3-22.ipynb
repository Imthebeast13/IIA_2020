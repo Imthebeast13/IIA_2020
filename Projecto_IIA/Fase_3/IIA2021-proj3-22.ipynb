{
 "cells": [
  {
   "cell_type": "markdown",
   "metadata": {},
   "source": [
    "#  Algoritmo Genético Rastros\n",
    "## Projeto nº 3\n",
    "### Introdução à Inteligência Artificial edição 2020/21\n",
    "\n",
    "\n",
    "## Grupo: 22\n",
    "\n",
    "### Elementos do Grupo\n",
    "\n",
    "Nome: André Firmino\n",
    "\n",
    "Número: 44999\n",
    "\n",
    "Nome: Joao Janeiro\n",
    "\n",
    "Número: 52779\n",
    "\n",
    "Nome: Nuno Estalagem\n",
    "\n",
    "Número 52828"
   ]
  },
  {
   "cell_type": "markdown",
   "metadata": {},
   "source": [
    "### Explicação da função e sua lógica\n",
    "(descrição)"
   ]
  },
  {
   "cell_type": "code",
   "execution_count": null,
   "metadata": {},
   "outputs": [],
   "source": []
  },
  {
   "cell_type": "markdown",
   "metadata": {},
   "source": [
    "### Demonstração"
   ]
  }
 ],
 "metadata": {
  "kernelspec": {
   "display_name": "Python 3",
   "language": "python",
   "name": "python3"
  },
  "language_info": {
   "codemirror_mode": {
    "name": "ipython",
    "version": 3
   },
   "file_extension": ".py",
   "mimetype": "text/x-python",
   "name": "python",
   "nbconvert_exporter": "python",
   "pygments_lexer": "ipython3",
   "version": "3.8.4"
  }
 },
 "nbformat": 4,
 "nbformat_minor": 4
}
